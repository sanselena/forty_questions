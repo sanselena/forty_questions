{
  "nbformat": 4,
  "nbformat_minor": 0,
  "metadata": {
    "colab": {
      "provenance": []
    },
    "kernelspec": {
      "name": "python3",
      "display_name": "Python 3"
    },
    "language_info": {
      "name": "python"
    }
  },
  "cells": [
    {
      "cell_type": "code",
      "execution_count": null,
      "metadata": {
        "colab": {
          "base_uri": "https://localhost:8080/"
        },
        "id": "VTjjAUI7DOPv",
        "outputId": "0eee0fba-3b68-4ef5-a3aa-3f2e0d6eebfc"
      },
      "outputs": [
        {
          "output_type": "stream",
          "name": "stdout",
          "text": [
            "sari\n",
            "sa\n",
            "ri\n",
            "samehmetri\n"
          ]
        }
      ],
      "source": [
        "S1='sari'\n",
        "S2='mehmet'\n",
        "print(S1[::])\n",
        "print(S1[:2])\n",
        "print(S1[2:])\n",
        "S3=S1[:len(S1)//2]+S2+S1[len(S1)//2:]\n",
        "print(S3)"
      ]
    },
    {
      "cell_type": "code",
      "source": [
        "company = input(\"enter string please: \")\n",
        "if len(company)>=3:\n",
        "    print(company[:3])\n",
        "    print(company[-3:])\n",
        "else:\n",
        "    print(\"empty string\")"
      ],
      "metadata": {
        "colab": {
          "base_uri": "https://localhost:8080/"
        },
        "id": "7vXVwq9YEMTj",
        "outputId": "b451a07d-a088-47ca-ee7e-e77d311e43b4"
      },
      "execution_count": null,
      "outputs": [
        {
          "output_type": "stream",
          "name": "stdout",
          "text": [
            "enter string please: trabzon\n",
            "tra\n",
            "zon\n"
          ]
        }
      ]
    },
    {
      "cell_type": "code",
      "source": [
        "str = \"uwo coksevdigin uwo\"\n",
        "a = str.count('uwo')\n",
        "print(f\"uwo {a} kere gözüktü\")"
      ],
      "metadata": {
        "colab": {
          "base_uri": "https://localhost:8080/"
        },
        "id": "HiN1Tl7sE-wF",
        "outputId": "63a5318b-a555-4948-934f-fcc8b3ea2575"
      },
      "execution_count": null,
      "outputs": [
        {
          "output_type": "stream",
          "name": "stdout",
          "text": [
            "uwo 2 kere gözüktü\n"
          ]
        }
      ]
    },
    {
      "cell_type": "code",
      "source": [
        "per = input (\"Please enter name, age and job seperated by commas: \")\n",
        "score = \"20,30,40,50\"\n",
        "score.split(\",\")\n",
        "['20','30','40','50']\n",
        "per=per.split(\",\")\n",
        "print(f\"name {per[0]} \\n age {per[1]} \\n job {per[2]}\")"
      ],
      "metadata": {
        "colab": {
          "base_uri": "https://localhost:8080/"
        },
        "id": "Vkn15HheFm7T",
        "outputId": "0c53f456-8f6a-47f3-f26c-48bfae76b20b"
      },
      "execution_count": null,
      "outputs": [
        {
          "output_type": "stream",
          "name": "stdout",
          "text": [
            "Please enter name, age and job seperated by commas: serenat,19,student\n",
            "name serenat \n",
            " age 19 \n",
            " job student\n"
          ]
        }
      ]
    },
    {
      "cell_type": "code",
      "source": [
        "work_hours = int(input(\"enter weekly hours:\"))\n",
        "hourly_wage = int(input(\"enter hourly wage:\"))\n",
        "if work_hours > 40:\n",
        "    weekly_wage = (work_hours-40)*1.5 + 40*hourly_wage\n",
        "else:\n",
        "    weekly_wage = work_hours*hourly_wage\n",
        "print(f\"Your weekly wage is {weekly_wage}\")"
      ],
      "metadata": {
        "colab": {
          "base_uri": "https://localhost:8080/"
        },
        "id": "RzIVFPihGZsP",
        "outputId": "7336522f-3e07-4fc7-90cb-9886d17594d7"
      },
      "execution_count": null,
      "outputs": [
        {
          "output_type": "stream",
          "name": "stdout",
          "text": [
            "enter weekly hours:41\n",
            "enter hourly wage:10\n",
            "Your weekly wage is 401.5\n"
          ]
        }
      ]
    },
    {
      "cell_type": "code",
      "source": [
        "a=int(input('enter first number: '))\n",
        "b=int(input('enter second number: '))\n",
        "if(a==b) or abs(a-b)%5==0:\n",
        "    print(True)\n",
        "else:\n",
        "    print(False)"
      ],
      "metadata": {
        "colab": {
          "base_uri": "https://localhost:8080/"
        },
        "id": "-KmSRCbMHe43",
        "outputId": "d6163a6b-cdaa-4067-f578-70564d1ed7b3"
      },
      "execution_count": null,
      "outputs": [
        {
          "output_type": "stream",
          "name": "stdout",
          "text": [
            "enter first number10\n",
            "enter second number15\n",
            "True\n"
          ]
        }
      ]
    },
    {
      "cell_type": "code",
      "source": [
        "x=input('please enter a number: ')\n",
        "y=input('please enter another number: ')\n",
        "string=type(x)\n",
        "if x.isnumeric() and y.isnumeric():\n",
        "  print(int(x)+int(y))\n",
        "else:\n",
        "  print('str')"
      ],
      "metadata": {
        "colab": {
          "base_uri": "https://localhost:8080/"
        },
        "id": "NDkHN2SPH5Y_",
        "outputId": "c29bc1cf-a0c9-4585-fbc8-072a565b2ebf"
      },
      "execution_count": null,
      "outputs": [
        {
          "output_type": "stream",
          "name": "stdout",
          "text": [
            "please enter a number: 3\n",
            "please enter another number: 4\n",
            "7\n"
          ]
        }
      ]
    },
    {
      "cell_type": "code",
      "source": [
        "country=input('please enter a country: ')\n",
        "area=input('please enter the area of the country: ')\n",
        "earth=148940000\n",
        "percent=int(area)/earth * 100\n",
        "percent = round(percent,2)\n",
        "print(f'{country} is {percent}% of the total world')"
      ],
      "metadata": {
        "colab": {
          "base_uri": "https://localhost:8080/"
        },
        "id": "otUrFc86KV7M",
        "outputId": "a5371bf5-abe5-4eed-84ea-f8988677bb97"
      },
      "execution_count": null,
      "outputs": [
        {
          "output_type": "stream",
          "name": "stdout",
          "text": [
            "please enter a country: Türkiye\n",
            "please enter the area of the country: 783563\n",
            "Türkiye is 0.53% of the total world\n"
          ]
        }
      ]
    },
    {
      "cell_type": "code",
      "source": [
        "w=input('please enter weight in kg: ')\n",
        "h=input('please enter height in cm: ')\n",
        "result = int(w)/((int(h)/100)**2)\n",
        "result = round(result,2)\n",
        "if result < 18.5:\n",
        "  body = \"underweight\"\n",
        "elif result <= 25:\n",
        "  body = \"normal\"\n",
        "elif result <= 30:\n",
        "  body = \"overweight\"\n",
        "elif result <= 35:\n",
        "  body = \"obese\"\n",
        "else:\n",
        "  body = \"extremely obese\"\n",
        "print(f'your body mass index is {result} and your body type is {body}')"
      ],
      "metadata": {
        "colab": {
          "base_uri": "https://localhost:8080/"
        },
        "id": "GQh8GKpcK7_h",
        "outputId": "5760dfb4-a45c-481a-b1ec-080767a5b209"
      },
      "execution_count": null,
      "outputs": [
        {
          "output_type": "stream",
          "name": "stdout",
          "text": [
            "please enter weight in kg: 56\n",
            "please enter height in cm: 158\n",
            "your body mass index is 22.43 and your body type is normal\n"
          ]
        }
      ]
    },
    {
      "cell_type": "code",
      "source": [
        "given_str=\"my phone number is (111) 222 33 44\"\n",
        "output=\"\"\n",
        "for i in given_str:\n",
        "  if i.isnumeric():\n",
        "    output+=i\n",
        "print(output)"
      ],
      "metadata": {
        "colab": {
          "base_uri": "https://localhost:8080/"
        },
        "id": "m_reHrjdLqvD",
        "outputId": "10bf7f86-cf08-4244-c958-8f64daa631c5"
      },
      "execution_count": null,
      "outputs": [
        {
          "output_type": "stream",
          "name": "stdout",
          "text": [
            "1112223344\n"
          ]
        }
      ]
    },
    {
      "cell_type": "code",
      "source": [
        "s=int(input('please enter your grade: '))\n",
        "if 0<=s<=100:\n",
        "    if s>=80:\n",
        "        result='A'\n",
        "    elif s>=65:\n",
        "        result='B'\n",
        "    elif s>=55:\n",
        "        result='C'\n",
        "    elif s>=50:\n",
        "        result='D'\n",
        "    elif s<50:\n",
        "        result='F'\n",
        "    else:\n",
        "        result='invalid grade'\n",
        "print(result)"
      ],
      "metadata": {
        "colab": {
          "base_uri": "https://localhost:8080/"
        },
        "id": "wNpvmnTcMcGn",
        "outputId": "8716e838-8649-4d10-bb6c-fed390b55c45"
      },
      "execution_count": null,
      "outputs": [
        {
          "output_type": "stream",
          "name": "stdout",
          "text": [
            "please enter your grade: 100\n",
            "A\n"
          ]
        }
      ]
    },
    {
      "cell_type": "code",
      "source": [
        "word = input('eenter a word: ').lower()\n",
        "result=[]\n",
        "for i in range (len(word)):\n",
        "  result.append(word[:i]+word[i].upper()+word[i+1:])\n",
        "print(result)\n",
        "#if the input is a numerical value, the value is printed as many times as it's\n",
        "#digits. If it's a double value, the dot and the rest is also counted as digits."
      ],
      "metadata": {
        "colab": {
          "base_uri": "https://localhost:8080/"
        },
        "id": "fMsKEfavQSbb",
        "outputId": "1ec2a330-b413-477c-985d-b8c21f759ebc"
      },
      "execution_count": null,
      "outputs": [
        {
          "output_type": "stream",
          "name": "stdout",
          "text": [
            "eenter a word: Sereebat\n",
            "['Sereebat', 'sEreebat', 'seReebat', 'serEebat', 'sereEbat', 'sereeBat', 'sereebAt', 'sereebaT']\n"
          ]
        }
      ]
    },
    {
      "cell_type": "code",
      "source": [
        "x = input('Enter a word: ')\n",
        "print(list(enumerate(x)))\n",
        "\n",
        "my_dict = dict(enumerate(x))\n",
        "print(my_dict)\n",
        "\n",
        "for i in range(len(x)):\n",
        "    my_dict[i] = x[i]\n",
        "print(my_dict)"
      ],
      "metadata": {
        "colab": {
          "base_uri": "https://localhost:8080/"
        },
        "id": "hSsmQyYyRODZ",
        "outputId": "58dbf5c0-5b82-4f5b-b166-575360ce1477"
      },
      "execution_count": null,
      "outputs": [
        {
          "output_type": "stream",
          "name": "stdout",
          "text": [
            "Enter a word: serenat\n",
            "[(0, 's'), (1, 'e'), (2, 'r'), (3, 'e'), (4, 'n'), (5, 'a'), (6, 't')]\n",
            "{0: 's', 1: 'e', 2: 'r', 3: 'e', 4: 'n', 5: 'a', 6: 't'}\n",
            "{0: 's', 1: 'e', 2: 'r', 3: 'e', 4: 'n', 5: 'a', 6: 't'}\n"
          ]
        }
      ]
    },
    {
      "cell_type": "code",
      "source": [
        "a = int(input(\"Enter a number: \"))\n",
        "for i in range(1, 11):\n",
        "    print(f\"{a} x {i} = {a * i}\")"
      ],
      "metadata": {
        "colab": {
          "base_uri": "https://localhost:8080/"
        },
        "id": "K7Jiv-8mR7Yw",
        "outputId": "dc059b27-e069-4d50-fb16-74052cd8986a"
      },
      "execution_count": null,
      "outputs": [
        {
          "output_type": "stream",
          "name": "stdout",
          "text": [
            "Enter a number: 6\n",
            "6 x 1 = 6\n",
            "6 x 2 = 12\n",
            "6 x 3 = 18\n",
            "6 x 4 = 24\n",
            "6 x 5 = 30\n",
            "6 x 6 = 36\n",
            "6 x 7 = 42\n",
            "6 x 8 = 48\n",
            "6 x 9 = 54\n",
            "6 x 10 = 60\n"
          ]
        }
      ]
    },
    {
      "cell_type": "code",
      "source": [
        "n = input(\"Enter a digit: \")\n",
        "a = n + n\n",
        "b = n + n + n\n",
        "c = n\n",
        "print(f\"{a} + {b} + {c} = {int(a) + int(b) + int(c)}\")\n",
        "\n",
        "if n.isdigit():\n",
        "  if int(n) in range(0, 10):\n",
        "    result = int(n) + int(n * 2) + int(n * 3)\n",
        "  else:\n",
        "    print(\"invalid input\")\n",
        "else:\n",
        "  print(\"invalid input\")\n",
        "print(result)"
      ],
      "metadata": {
        "colab": {
          "base_uri": "https://localhost:8080/"
        },
        "id": "V_nsyWw8R-N5",
        "outputId": "904be539-9d2f-47f4-be34-6b92cec69ba9"
      },
      "execution_count": null,
      "outputs": [
        {
          "output_type": "stream",
          "name": "stdout",
          "text": [
            "Enter a digit: 1\n",
            "11 + 111 + 1 = 123\n",
            "123\n"
          ]
        }
      ]
    },
    {
      "cell_type": "code",
      "source": [
        "x = input(\"Enter a string array: \").split()\n",
        "new_arr = []\n",
        "for word in x:\n",
        "    if len(word) > 1:\n",
        "        new_arr.append(word[0] + ''.join([i if i != word[0] else '?' for i in word[1:]]))\n",
        "    else:\n",
        "        new_arr.append(word)\n",
        "print(new_arr)"
      ],
      "metadata": {
        "colab": {
          "base_uri": "https://localhost:8080/"
        },
        "id": "X2qHkj31Sa2n",
        "outputId": "01f24bb0-b251-4fa9-ec9f-fe29b33ea46d"
      },
      "execution_count": null,
      "outputs": [
        {
          "output_type": "stream",
          "name": "stdout",
          "text": [
            "Enter a string array: dkdfjskljfsdlk\n",
            "['dk?fjskljfs?lk']\n"
          ]
        }
      ]
    },
    {
      "cell_type": "code",
      "source": [
        "odds = []\n",
        "evens = []\n",
        "for i in range(1, 51):\n",
        "    if i % 2 == 0:\n",
        "        evens.append(i)\n",
        "    else:\n",
        "        odds.append(i)\n",
        "print(odds)\n",
        "print(evens)"
      ],
      "metadata": {
        "colab": {
          "base_uri": "https://localhost:8080/"
        },
        "id": "5OrrVD67TRdO",
        "outputId": "a5001652-ba4c-4c8f-93b2-1244ca3bda7a"
      },
      "execution_count": null,
      "outputs": [
        {
          "output_type": "stream",
          "name": "stdout",
          "text": [
            "[1, 3, 5, 7, 9, 11, 13, 15, 17, 19, 21, 23, 25, 27, 29, 31, 33, 35, 37, 39, 41, 43, 45, 47, 49]\n",
            "[2, 4, 6, 8, 10, 12, 14, 16, 18, 20, 22, 24, 26, 28, 30, 32, 34, 36, 38, 40, 42, 44, 46, 48, 50]\n"
          ]
        }
      ]
    },
    {
      "cell_type": "code",
      "source": [
        "a = int(input(\"Enter first number: \"))\n",
        "b = int(input(\"Enter second number: \"))\n",
        "\n",
        "if a > b:\n",
        "    print(list(range(b, a+1)))\n",
        "elif b > a:\n",
        "    print(list(range(a, b+1)))\n",
        "else:\n",
        "    print(a)"
      ],
      "metadata": {
        "colab": {
          "base_uri": "https://localhost:8080/"
        },
        "id": "CfYnlpmjTUC1",
        "outputId": "947614d6-4c44-4ef8-84c8-0aedf8d17db9"
      },
      "execution_count": null,
      "outputs": [
        {
          "output_type": "stream",
          "name": "stdout",
          "text": [
            "Enter first number: 10\n",
            "Enter second number: 100\n",
            "[10, 11, 12, 13, 14, 15, 16, 17, 18, 19, 20, 21, 22, 23, 24, 25, 26, 27, 28, 29, 30, 31, 32, 33, 34, 35, 36, 37, 38, 39, 40, 41, 42, 43, 44, 45, 46, 47, 48, 49, 50, 51, 52, 53, 54, 55, 56, 57, 58, 59, 60, 61, 62, 63, 64, 65, 66, 67, 68, 69, 70, 71, 72, 73, 74, 75, 76, 77, 78, 79, 80, 81, 82, 83, 84, 85, 86, 87, 88, 89, 90, 91, 92, 93, 94, 95, 96, 97, 98, 99, 100]\n"
          ]
        }
      ]
    },
    {
      "cell_type": "code",
      "source": [
        "wordList = \"This is Istanbul, no way out\"\n",
        "print(wordList[::-1])"
      ],
      "metadata": {
        "colab": {
          "base_uri": "https://localhost:8080/"
        },
        "id": "M7qJAZDaTezF",
        "outputId": "d801e33f-7d1d-48cc-d14d-50183bc2bc60"
      },
      "execution_count": null,
      "outputs": [
        {
          "output_type": "stream",
          "name": "stdout",
          "text": [
            "tuo yaw on ,lubnatsI si sihT\n"
          ]
        }
      ]
    },
    {
      "cell_type": "code",
      "source": [
        "import math\n",
        "\n",
        "r = int(input(\"Enter radius: \"))\n",
        "square = 2*(2*r)\n",
        "circle = math.pi*r*r\n",
        "dif = abs(square - circle)\n",
        "\n",
        "print(f\"the difference {dif}\")"
      ],
      "metadata": {
        "colab": {
          "base_uri": "https://localhost:8080/"
        },
        "id": "Rn3xzqlsTkM8",
        "outputId": "db6da7c7-189f-4c11-b21f-77ed17713dec"
      },
      "execution_count": null,
      "outputs": [
        {
          "output_type": "stream",
          "name": "stdout",
          "text": [
            "Enter radius: 5\n",
            "the difference 58.53981633974483\n"
          ]
        }
      ]
    },
    {
      "cell_type": "code",
      "source": [
        "word = input(\"Turkce bir kelime girin: \")\n",
        "kalin = ['a','ı','o','u']\n",
        "ince = ['e','i','ö','ü']\n",
        "if any(harf in kalin for harf in word) and any(harf in ince for harf in word):\n",
        "    print('buyuk unlu uyumuna uygun')\n",
        "else:\n",
        "    print('buyuk unlu uyumuna uygun degil')"
      ],
      "metadata": {
        "colab": {
          "base_uri": "https://localhost:8080/"
        },
        "id": "qFs-QFjD2QeP",
        "outputId": "c24d13bf-c149-407c-8f11-c56b630fa023"
      },
      "execution_count": null,
      "outputs": [
        {
          "output_type": "stream",
          "name": "stdout",
          "text": [
            "Turkce bir kelime girin: Öküz\n",
            "buyuk unlu uyumuna uygun degil\n"
          ]
        }
      ]
    },
    {
      "cell_type": "code",
      "source": [
        "n = int(input(\"Enter a number: \"))\n",
        "if n > 3:\n",
        "    if n % 2 == 1:\n",
        "        print(n-2)\n",
        "    else:\n",
        "        print(n+1)\n",
        "else:\n",
        "    print(\"invalid input\")"
      ],
      "metadata": {
        "colab": {
          "base_uri": "https://localhost:8080/"
        },
        "id": "QHPfk0y52akX",
        "outputId": "0b5c4712-2bcc-41aa-bf2a-106f84765468"
      },
      "execution_count": null,
      "outputs": [
        {
          "output_type": "stream",
          "name": "stdout",
          "text": [
            "Enter a number: 4\n",
            "5\n"
          ]
        }
      ]
    },
    {
      "cell_type": "code",
      "source": [
        "twoTwenty = [1,2,4,5,10,20,21,22,44,55,110]\n",
        "twoEighty = [1,2,4,71,142]\n",
        "\n",
        "amicable = []\n",
        "x = int(input(\"Enter a number: \"))\n",
        "sum_i=0\n",
        "for i in range (1,x):\n",
        "  if x%i==0:\n",
        "    sum_i+=i\n",
        "sum_j=0\n",
        "for j in range (1,sum_i):\n",
        "  if sum_i%j==0:\n",
        "    sum_j+=j\n",
        "if sum_j==x:\n",
        "  print(f\"{x} and {sum_i} are amicable numbers\")\n",
        "else:\n",
        "  print(f\"{x} and {sum_i} are not amicable numbers\")"
      ],
      "metadata": {
        "colab": {
          "base_uri": "https://localhost:8080/"
        },
        "id": "Q-_iFba02yLH",
        "outputId": "afad9548-9d93-4963-e3bf-f34186ade654"
      },
      "execution_count": null,
      "outputs": [
        {
          "output_type": "stream",
          "name": "stdout",
          "text": [
            "Enter a number: 4\n",
            "4 and 3 are not amicable numbers\n"
          ]
        }
      ]
    },
    {
      "cell_type": "code",
      "source": [
        "def digitValues(num):\n",
        "    digitValues = []\n",
        "    while num > 0:\n",
        "        digitValues.append(num % 10)\n",
        "        num //= 10\n",
        "    return digitValues[::-1]\n",
        "\n",
        "print(digitValues(int(input(\"Enter an integer: \"))))"
      ],
      "metadata": {
        "colab": {
          "base_uri": "https://localhost:8080/"
        },
        "id": "m7ugFAEA3r2v",
        "outputId": "5afc4855-9370-4361-8e79-35e7b95659f4"
      },
      "execution_count": null,
      "outputs": [
        {
          "output_type": "stream",
          "name": "stdout",
          "text": [
            "Enter an integer: 100\n",
            "[1, 0, 0]\n"
          ]
        }
      ]
    },
    {
      "cell_type": "code",
      "source": [
        "num =input(\"Enter a number: \")\n",
        "len_n = len(num)\n",
        "sum = 0\n",
        "for i in num:\n",
        "  sum += int(i)**len_n\n",
        "if sum == int(num):\n",
        "  print(f\"{num} is Armstrong number\")\n",
        "else:\n",
        "  print(f\"{num} is not Armstrong number\")"
      ],
      "metadata": {
        "colab": {
          "base_uri": "https://localhost:8080/"
        },
        "id": "BcicxOV13yYV",
        "outputId": "057643a9-b3c6-47fa-fcbc-af5265c8fe7d"
      },
      "execution_count": null,
      "outputs": [
        {
          "output_type": "stream",
          "name": "stdout",
          "text": [
            "Enter a number: 152\n",
            "152 is not Armstrong number\n"
          ]
        }
      ]
    },
    {
      "cell_type": "code",
      "source": [
        "import random\n",
        "randomNum = random.randint(1, 100)\n",
        "guesses = 0\n",
        "while True:\n",
        "    guess = int(input(\"Enter your guess: \"))\n",
        "    guesses += 1\n",
        "    if guess > randomNum:\n",
        "        print(\"Too high\")\n",
        "    elif guess < randomNum:\n",
        "        print(\"Too low\")\n",
        "    else:\n",
        "        print(\"Correct Guess\")\n",
        "        break"
      ],
      "metadata": {
        "colab": {
          "base_uri": "https://localhost:8080/"
        },
        "id": "rLSsFn0f4o7N",
        "outputId": "b9492bdb-1ce8-447c-f8d1-0b4b0ead6884"
      },
      "execution_count": null,
      "outputs": [
        {
          "output_type": "stream",
          "name": "stdout",
          "text": [
            "Enter your guess: 69\n",
            "Too high\n",
            "Enter your guess: 31\n",
            "Too high\n",
            "Enter your guess: 14\n",
            "Too low\n",
            "Enter your guess: 16\n",
            "Too low\n",
            "Enter your guess: 25\n",
            "Too low\n",
            "Enter your guess: 30\n",
            "Too high\n",
            "Enter your guess: 29\n",
            "Too high\n",
            "Enter your guess: 27\n",
            "Too low\n",
            "Enter your guess: 28\n",
            "Correct Guess\n"
          ]
        }
      ]
    },
    {
      "cell_type": "code",
      "source": [
        "num = int(input(\"Enter an integer: \"))\n",
        "total = 0\n",
        "for i in range(1, num+1):\n",
        "    if num % i == 0:\n",
        "        total += i\n",
        "if total == num:\n",
        "    print(f\"{num} is a perfect number\")\n",
        "else:\n",
        "    print(f\"{num} is not a perfect number\")"
      ],
      "metadata": {
        "colab": {
          "base_uri": "https://localhost:8080/"
        },
        "id": "2yFvCRkY5HvS",
        "outputId": "2ce461c9-97d8-4ba0-e377-e2d6054df2e1"
      },
      "execution_count": null,
      "outputs": [
        {
          "output_type": "stream",
          "name": "stdout",
          "text": [
            "Enter an integer: 14\n",
            "14 is not a perfect number\n"
          ]
        }
      ]
    },
    {
      "cell_type": "code",
      "source": [
        "sentence = input(\"Enter a sentence: \")\n",
        "alphaSentence = \"\".join([i for i in sentence if i.isalpha()])\n",
        "if alphaSentence == alphaSentence[::-1]:\n",
        "    print(\"is a palindrome\")\n",
        "else:\n",
        "    print(\"is not a palindrome\")"
      ],
      "metadata": {
        "colab": {
          "base_uri": "https://localhost:8080/"
        },
        "id": "3DjU0GU05P6T",
        "outputId": "edc4650a-5412-4329-da68-c89633eaa8b2"
      },
      "execution_count": null,
      "outputs": [
        {
          "output_type": "stream",
          "name": "stdout",
          "text": [
            "Enter a sentence: ey edip adanada pide ye\n",
            "is a palindrome\n"
          ]
        }
      ]
    },
    {
      "cell_type": "code",
      "source": [
        "num = int(input(\"Enter a number: \"))\n",
        "if num == 1:\n",
        "    print(\"not a prime number\")\n",
        "for i in range(1, num):\n",
        "    if num %i == 0:\n",
        "        print(\"not a prime number\")\n",
        "        break\n",
        "    else:\n",
        "        print(\"prime number\")"
      ],
      "metadata": {
        "colab": {
          "base_uri": "https://localhost:8080/"
        },
        "id": "1fpdPz8r5cDE",
        "outputId": "37eb9390-e90c-4fb2-c4af-ee01d016e741"
      },
      "execution_count": null,
      "outputs": [
        {
          "output_type": "stream",
          "name": "stdout",
          "text": [
            "Enter a number: 14\n",
            "not a prime number\n"
          ]
        }
      ]
    },
    {
      "cell_type": "code",
      "source": [
        "num1 = int(input(\"Enter first number: \"))\n",
        "num2 = int(input(\"Enter second number: \"))\n",
        "i = 1\n",
        "while i <= num1 and i <= num2:\n",
        "    if num1 % i == 0 and num2 % i == 0:\n",
        "        gcd = i\n",
        "    i += 1\n",
        "print(\"GCD of\", num1, \"and\", num2, \"is\", gcd)"
      ],
      "metadata": {
        "colab": {
          "base_uri": "https://localhost:8080/"
        },
        "id": "wEdiCEYd5o46",
        "outputId": "dcf1a4ec-a8c1-4642-a810-2f37ce0d6841"
      },
      "execution_count": null,
      "outputs": [
        {
          "output_type": "stream",
          "name": "stdout",
          "text": [
            "Enter first number: 71\n",
            "Enter second number: 17\n",
            "GCD of 71 and 17 is 1\n"
          ]
        }
      ]
    },
    {
      "cell_type": "code",
      "source": [
        "sentence = input(\"Enter a sentence: \")\n",
        "alpha = []\n",
        "for i in sentence:\n",
        "    if i.isalpha():\n",
        "        alpha.append(i)\n",
        "print(len(alpha))"
      ],
      "metadata": {
        "colab": {
          "base_uri": "https://localhost:8080/"
        },
        "id": "DyyeQAEN52wE",
        "outputId": "b8e6e9b6-e132-43ec-a59f-764f50008dbc"
      },
      "execution_count": null,
      "outputs": [
        {
          "output_type": "stream",
          "name": "stdout",
          "text": [
            "Enter a sentence: Hello worldd\n",
            "11\n"
          ]
        }
      ]
    },
    {
      "cell_type": "code",
      "source": [
        "sentence1 = input(\"Enter first sentence: \").split()\n",
        "sentence2 = input(\"Enter second sentence: \").split()\n",
        "result = []\n",
        "for word1 in sentence1:\n",
        "    for word2 in sentence2:\n",
        "        if word2 in word1:\n",
        "            result.append(word1)\n",
        "print(result)"
      ],
      "metadata": {
        "colab": {
          "base_uri": "https://localhost:8080/"
        },
        "id": "XyYu61N18D9x",
        "outputId": "06da38ef-dfca-4261-f67e-a4b58be512dd"
      },
      "execution_count": null,
      "outputs": [
        {
          "output_type": "stream",
          "name": "stdout",
          "text": [
            "Enter first sentence: za xd sj\n",
            "Enter second sentence: za sj xd bla\n",
            "['za', 'xd', 'sj']\n"
          ]
        }
      ]
    },
    {
      "cell_type": "code",
      "source": [
        "nums = [1,7,3,6,4,2,8,9,5]\n",
        "odd = [i for i in nums if i % 2 != 0]\n",
        "odd = sorted(odd)\n",
        "result = []\n",
        "k = 0\n",
        "for i in nums:\n",
        "    if i % 2 != 0:\n",
        "        result.append(odd[k])\n",
        "        k += 1\n",
        "    else:\n",
        "        result.append(i)\n",
        "print(result)"
      ],
      "metadata": {
        "colab": {
          "base_uri": "https://localhost:8080/"
        },
        "id": "dvr0sXCF8yXk",
        "outputId": "0b9178ea-c135-48ff-c95a-5cdd9c70b1f5"
      },
      "execution_count": null,
      "outputs": [
        {
          "output_type": "stream",
          "name": "stdout",
          "text": [
            "[1, 3, 5, 6, 4, 2, 8, 7, 9]\n"
          ]
        }
      ]
    },
    {
      "cell_type": "code",
      "source": [
        "listj = [(\"b\",1),(\"c\",2),(\"x\",3),(\"x\",4),(\"z\",5)]\n",
        "\n",
        "sorted(listj, key = lambda x: x[1])"
      ],
      "metadata": {
        "colab": {
          "base_uri": "https://localhost:8080/"
        },
        "id": "jh8Xp0hZ83eM",
        "outputId": "d1c953a6-e1e4-4fad-bf67-cb6ceca32e9e"
      },
      "execution_count": null,
      "outputs": [
        {
          "output_type": "execute_result",
          "data": {
            "text/plain": [
              "[('b', 1), ('c', 2), ('x', 3), ('x', 4), ('z', 5)]"
            ]
          },
          "metadata": {},
          "execution_count": 63
        }
      ]
    },
    {
      "cell_type": "code",
      "source": [
        "listA = [2, 14, 32, 2, 5, 8, 1]\n",
        "\n",
        "listB = []\n",
        "\n",
        "for i in range(len(listA)):\n",
        "    if listA[i] < max(listA[i:]):\n",
        "        listB.append(listA[i])\n",
        "\n",
        "print(\"Initial List:\", listA)\n",
        "\n",
        "other = [i for i in listA if i not in listB]\n",
        "\n",
        "print(\"Output:\", sorted(other, reverse=True))"
      ],
      "metadata": {
        "colab": {
          "base_uri": "https://localhost:8080/"
        },
        "id": "DoEteigw9H2D",
        "outputId": "b0cc27f2-8bbb-4a69-c1a5-4ce991faa3cb"
      },
      "execution_count": null,
      "outputs": [
        {
          "output_type": "stream",
          "name": "stdout",
          "text": [
            "Initial List: [2, 14, 32, 2, 5, 8, 1]\n",
            "Output: [32, 8, 1]\n"
          ]
        }
      ]
    },
    {
      "cell_type": "code",
      "source": [
        "import time\n",
        "\n",
        "input = __builtins__.input\n",
        "user_input = input(\"Enter an integer: \")\n",
        "num = int(user_input)\n",
        "\n",
        "x = num\n",
        "\n",
        "while x != 1:\n",
        "    if x % 2 == 0:\n",
        "        x = x / 2\n",
        "    else:\n",
        "        x = 3 * x + 1\n",
        "    time.sleep(1)\n",
        "print(x)"
      ],
      "metadata": {
        "colab": {
          "base_uri": "https://localhost:8080/"
        },
        "id": "_BjEguDX9cx7",
        "outputId": "c4b2849a-585c-4055-a954-5124c8e3faaf"
      },
      "execution_count": null,
      "outputs": [
        {
          "output_type": "stream",
          "name": "stdout",
          "text": [
            "Enter an integer: 14\n",
            "1.0\n"
          ]
        }
      ]
    },
    {
      "cell_type": "code",
      "source": [
        "n = int(input(\"n: \"))\n",
        "locker = [True for i in range(n)]\n",
        "\n",
        "def locker(x):\n",
        "    locker = [0 for i in range(x)]\n",
        "    for i in range(x):\n",
        "        for j in range(i, x, i + 1):\n",
        "            if locker[j] == 0:\n",
        "                locker[j] = 1\n",
        "            else:\n",
        "                locker[j] = 0\n",
        "    return locker\n",
        "\n",
        "a = locker(7)\n",
        "print(a, a.count(1))"
      ],
      "metadata": {
        "colab": {
          "base_uri": "https://localhost:8080/"
        },
        "id": "2sIOv7gA-TZx",
        "outputId": "81c68d39-a467-436a-f973-b90129264125"
      },
      "execution_count": null,
      "outputs": [
        {
          "output_type": "stream",
          "name": "stdout",
          "text": [
            "n: 14\n",
            "[1, 0, 0, 1, 0, 0, 0] 2\n"
          ]
        }
      ]
    },
    {
      "cell_type": "code",
      "source": [
        "def pairs(listk):\n",
        "    list_new = []\n",
        "\n",
        "    for i in range(len(listk) // 2):\n",
        "        list_new.append([listk[i], listk[-i-1]])\n",
        "\n",
        "    if len(listk) % 2 == 1:\n",
        "        list_new.append([listk[len(listk) // 2]])\n",
        "\n",
        "    return list_new\n",
        "\n",
        "print(pairs([1, 2, 3, 4, 5, 6, 7]))"
      ],
      "metadata": {
        "colab": {
          "base_uri": "https://localhost:8080/"
        },
        "id": "CREeb7QS-XL1",
        "outputId": "84917dd7-c884-4b96-d990-6aa5b442d36f"
      },
      "execution_count": null,
      "outputs": [
        {
          "output_type": "stream",
          "name": "stdout",
          "text": [
            "[[1, 7], [2, 6], [3, 5], [4]]\n"
          ]
        }
      ]
    },
    {
      "cell_type": "code",
      "source": [
        "def scramble(str1, str2):\n",
        "    a = len(str1)\n",
        "    count = 0\n",
        "    for i in str2:\n",
        "        if i in a:\n",
        "            count += 1\n",
        "    return count == len(str2)"
      ],
      "metadata": {
        "id": "OmRGxvTH-d7C"
      },
      "execution_count": null,
      "outputs": []
    },
    {
      "cell_type": "code",
      "source": [
        "import random\n",
        "\n",
        "choices = [\"rock\", \"paper\", \"scissors\"]\n",
        "computer = random.choice(choices)\n",
        "\n",
        "user = input(\"Enter a choice (rock, paper, scissors): \").lower()\n",
        "while user not in choices:\n",
        "    user = input(\"Invalid input. Enter a choice (rock, paper, scissors): \").lower()\n",
        "\n",
        "print(f\"Computer chose {computer}\")\n",
        "\n",
        "if user == computer:\n",
        "    print(\"It's a tie!\")\n",
        "elif user == \"rock\":\n",
        "    if computer == \"paper\":\n",
        "      print(\"Computer wins!\")\n",
        "    else:\n",
        "        print(\"User wins!\")\n",
        "elif user == \"paper\":\n",
        "    if computer == \"scissors\":\n",
        "        print(\"Computer wins!\")\n",
        "    else:\n",
        "        print(\"User wins!\")\n",
        "elif user == \"scissors\":\n",
        "    if computer == \"rock\":\n",
        "        print(\"Computer wins!\")\n",
        "    else:\n",
        "        print(\"User wins!\")"
      ],
      "metadata": {
        "colab": {
          "base_uri": "https://localhost:8080/"
        },
        "id": "4tFD-ACB-h-a",
        "outputId": "ac05a214-a712-4e27-a284-f2262d07db35"
      },
      "execution_count": null,
      "outputs": [
        {
          "output_type": "stream",
          "name": "stdout",
          "text": [
            "Enter a choice (rock, paper, scissors): scissors\n",
            "Computer chose paper\n",
            "User wins!\n"
          ]
        }
      ]
    },
    {
      "cell_type": "code",
      "source": [
        "def crypto(word):\n",
        "    alphabet = \"abcdefghijklmnopqrstuvwxyz\"\n",
        "    rotate_7 = \"ghijklmnopqrstuvwxyzabcdef\"\n",
        "    new = \"\"\n",
        "    for i in word:\n",
        "        if i in alphabet:\n",
        "            new += rotate_7[alphabet.index(i.lower()) % len(rotate_7)]\n",
        "    return new\n",
        "\n",
        "word = input(\"Enter a word: \")\n",
        "print(crypto(word))"
      ],
      "metadata": {
        "colab": {
          "base_uri": "https://localhost:8080/"
        },
        "id": "jQpmkOJh-_5K",
        "outputId": "d129b0cd-eec2-472e-fffb-9884e6126463"
      },
      "execution_count": null,
      "outputs": [
        {
          "output_type": "stream",
          "name": "stdout",
          "text": [
            "Enter a word: serenat\n",
            "ykxktgz\n"
          ]
        }
      ]
    },
    {
      "cell_type": "code",
      "source": [
        "def nearest_vowel(letter):\n",
        "    vowels = \"aeiou\"\n",
        "    alphabet = \"abcdefghijklmnopqrstuvwxyz\"\n",
        "    index = alphabet.index(letter.lower())\n",
        "    min_diff = float('inf')\n",
        "    nearest = \"\"\n",
        "    for i in vowels:\n",
        "        diff = abs(alphabet.index(i) - index)\n",
        "        if diff < min_diff:\n",
        "            min_diff = diff\n",
        "            nearest = i\n",
        "    return nearest"
      ],
      "metadata": {
        "id": "4ZuaU8bADPPD"
      },
      "execution_count": null,
      "outputs": []
    },
    {
      "cell_type": "code",
      "source": [
        "anagrams = {}\n",
        "list = __builtins__.list\n",
        "words = input(\"Enter words separated by commas: \").split(\",\")\n",
        "for word in words:\n",
        "    sorted_word = \"\".join(sorted(word))\n",
        "    if sorted_word in anagrams:\n",
        "        anagrams[sorted_word].append(word)\n",
        "    else:\n",
        "        anagrams[sorted_word] = [word]\n",
        "\n",
        "result = list(anagrams.values())\n",
        "print(result)"
      ],
      "metadata": {
        "colab": {
          "base_uri": "https://localhost:8080/"
        },
        "id": "ZABI13lc__Pp",
        "outputId": "2c37b4b9-4ef5-4cb2-9f62-ee824e9eb1fb"
      },
      "execution_count": null,
      "outputs": [
        {
          "output_type": "stream",
          "name": "stdout",
          "text": [
            "Enter words separated by commas: sfdsdf,sdfsdfsdf\n",
            "[['sfdsdf'], ['sdfsdfsdf']]\n"
          ]
        }
      ]
    }
  ]
}